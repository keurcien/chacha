{
 "cells": [
  {
   "cell_type": "code",
   "execution_count": 140,
   "metadata": {
    "collapsed": false,
    "deletable": true,
    "editable": true
   },
   "outputs": [
    {
     "name": "stdout",
     "output_type": "stream",
     "text": [
      "The autoreload extension is already loaded. To reload it, use:\n",
      "  %reload_ext autoreload\n"
     ]
    }
   ],
   "source": [
    "%load_ext autoreload\n",
    "%autoreload 2\n",
    "\n",
    "import pandas as pd\n",
    "import numpy as np\n",
    "import matplotlib.pyplot as plt\n",
    "from sklearn.ensemble import RandomForestClassifier\n",
    "from sklearn.model_selection import train_test_split\n",
    "from sklearn.metrics import log_loss\n",
    "from collections import Counter\n",
    "import string\n",
    "import re\n",
    "\n",
    "# Import user defined functions.\n",
    "import parse as prs\n",
    "\n",
    "# Read and parse json.\n",
    "df = pd.read_json('data/train.json')\n",
    "\n",
    "# Defining names of the target\n",
    "target_names = ['high','medium','low']"
   ]
  },
  {
   "cell_type": "code",
   "execution_count": 67,
   "metadata": {
    "collapsed": false,
    "deletable": true,
    "editable": true
   },
   "outputs": [],
   "source": [
    "# Reducing the dataframe\n",
    "#rows = np.random.choice(df.index.values, 1000)\n",
    "#sampled_df = df.ix[rows]\n",
    "#df = sampled_df"
   ]
  },
  {
   "cell_type": "code",
   "execution_count": 89,
   "metadata": {
    "collapsed": false
   },
   "outputs": [
    {
     "data": {
      "text/html": [
       "<div>\n",
       "<table border=\"1\" class=\"dataframe\">\n",
       "  <thead>\n",
       "    <tr style=\"text-align: right;\">\n",
       "      <th></th>\n",
       "      <th>bathrooms</th>\n",
       "      <th>bedrooms</th>\n",
       "      <th>building_id</th>\n",
       "      <th>created</th>\n",
       "      <th>description</th>\n",
       "      <th>display_address</th>\n",
       "      <th>features</th>\n",
       "      <th>interest_level</th>\n",
       "      <th>latitude</th>\n",
       "      <th>listing_id</th>\n",
       "      <th>longitude</th>\n",
       "      <th>manager_id</th>\n",
       "      <th>photos</th>\n",
       "      <th>price</th>\n",
       "      <th>street_address</th>\n",
       "    </tr>\n",
       "  </thead>\n",
       "  <tbody>\n",
       "    <tr>\n",
       "      <th>4698</th>\n",
       "      <td>2.0</td>\n",
       "      <td>3</td>\n",
       "      <td>c9b5ba9bc3196fa92db7a662db0259e8</td>\n",
       "      <td>2016-06-06 10:29:51</td>\n",
       "      <td>NO FEE\\r\\rLuxury apartment offers studio, alco...</td>\n",
       "      <td></td>\n",
       "      <td>[Laundry In Unit, Cats Allowed, Private Outdoo...</td>\n",
       "      <td>low</td>\n",
       "      <td>40.7070</td>\n",
       "      <td>7116549</td>\n",
       "      <td>-74.0052</td>\n",
       "      <td>524a48d3526730bec7262442b3aa9a94</td>\n",
       "      <td>[https://photos.renthop.com/2/7116549_d6dddea3...</td>\n",
       "      <td>7929</td>\n",
       "      <td>70 pine street</td>\n",
       "    </tr>\n",
       "    <tr>\n",
       "      <th>56565</th>\n",
       "      <td>2.0</td>\n",
       "      <td>2</td>\n",
       "      <td>4536d999c24c6f4723a5c1ce3e17860b</td>\n",
       "      <td>2016-05-19 01:50:15</td>\n",
       "      <td></td>\n",
       "      <td>Horatio Street</td>\n",
       "      <td>[Doorman, Prewar, Fitness Center, Elevator, Ga...</td>\n",
       "      <td>low</td>\n",
       "      <td>40.7389</td>\n",
       "      <td>7035426</td>\n",
       "      <td>-74.0088</td>\n",
       "      <td>62b685cc0d876c3a1a51d63a0d6a8082</td>\n",
       "      <td>[]</td>\n",
       "      <td>9000</td>\n",
       "      <td>95-97 HORATIO Street</td>\n",
       "    </tr>\n",
       "    <tr>\n",
       "      <th>96815</th>\n",
       "      <td>2.0</td>\n",
       "      <td>3</td>\n",
       "      <td>7e146ee3b917175e529547c501de037a</td>\n",
       "      <td>2016-04-05 04:44:35</td>\n",
       "      <td>GORGEOUS Conv/3 Bedroom duplex! This is a newl...</td>\n",
       "      <td>E 82nd St</td>\n",
       "      <td>[]</td>\n",
       "      <td>low</td>\n",
       "      <td>40.7729</td>\n",
       "      <td>6825277</td>\n",
       "      <td>-73.9484</td>\n",
       "      <td>2827fb427270169c5024c44cf966f71b</td>\n",
       "      <td>[https://photos.renthop.com/2/6825277_1cb595da...</td>\n",
       "      <td>3900</td>\n",
       "      <td>510 E 82nd St</td>\n",
       "    </tr>\n",
       "  </tbody>\n",
       "</table>\n",
       "</div>"
      ],
      "text/plain": [
       "       bathrooms  bedrooms                       building_id  \\\n",
       "4698         2.0         3  c9b5ba9bc3196fa92db7a662db0259e8   \n",
       "56565        2.0         2  4536d999c24c6f4723a5c1ce3e17860b   \n",
       "96815        2.0         3  7e146ee3b917175e529547c501de037a   \n",
       "\n",
       "                   created                                        description  \\\n",
       "4698   2016-06-06 10:29:51  NO FEE\\r\\rLuxury apartment offers studio, alco...   \n",
       "56565  2016-05-19 01:50:15                                                      \n",
       "96815  2016-04-05 04:44:35  GORGEOUS Conv/3 Bedroom duplex! This is a newl...   \n",
       "\n",
       "      display_address                                           features  \\\n",
       "4698                   [Laundry In Unit, Cats Allowed, Private Outdoo...   \n",
       "56565  Horatio Street  [Doorman, Prewar, Fitness Center, Elevator, Ga...   \n",
       "96815       E 82nd St                                                 []   \n",
       "\n",
       "      interest_level  latitude  listing_id  longitude  \\\n",
       "4698             low   40.7070     7116549   -74.0052   \n",
       "56565            low   40.7389     7035426   -74.0088   \n",
       "96815            low   40.7729     6825277   -73.9484   \n",
       "\n",
       "                             manager_id  \\\n",
       "4698   524a48d3526730bec7262442b3aa9a94   \n",
       "56565  62b685cc0d876c3a1a51d63a0d6a8082   \n",
       "96815  2827fb427270169c5024c44cf966f71b   \n",
       "\n",
       "                                                  photos  price  \\\n",
       "4698   [https://photos.renthop.com/2/7116549_d6dddea3...   7929   \n",
       "56565                                                 []   9000   \n",
       "96815  [https://photos.renthop.com/2/6825277_1cb595da...   3900   \n",
       "\n",
       "             street_address  \n",
       "4698        70 pine street   \n",
       "56565  95-97 HORATIO Street  \n",
       "96815         510 E 82nd St  "
      ]
     },
     "execution_count": 89,
     "metadata": {},
     "output_type": "execute_result"
    }
   ],
   "source": [
    "# Looking at the dataframe\n",
    "rows = np.random.choice(df.index.values, 3)\n",
    "sampled_df = df.ix[rows]\n",
    "sampled_df"
   ]
  },
  {
   "cell_type": "code",
   "execution_count": 68,
   "metadata": {
    "collapsed": false,
    "deletable": true,
    "editable": true
   },
   "outputs": [
    {
     "data": {
      "image/png": "[encoded data removed]",
      "text/plain": [
       "<matplotlib.figure.Figure at 0x12f7aae50>"
      ]
     },
     "metadata": {},
     "output_type": "display_data"
    }
   ],
   "source": [
    "# Proportion of interest level.\n",
    "prop_interest = []\n",
    "for interest_name in target_names:\n",
    "   prop_interest.append(np.float(np.sum(df.interest_level==interest_name))/np.float(np.shape(df)[0]))\n",
    "\n",
    "# Plotting as graph bar.\n",
    "y_pos = np.arange(len(target_names))\n",
    "plt.bar(y_pos, prop_interest, align='center', alpha=0.5)\n",
    "plt.xticks(y_pos, target_names, rotation='vertical') \n",
    "plt.show()"
   ]
  },
  {
   "cell_type": "code",
   "execution_count": 69,
   "metadata": {
    "collapsed": false,
    "deletable": true,
    "editable": true
   },
   "outputs": [
    {
     "name": "stdout",
     "output_type": "stream",
     "text": [
      "[u'with_cats_allowed', u'with_dogs_allowed', u'with_elevator', u'with_dishwasher', u'with_no_fee', u'with_hardwood_floors', u'with_doorman', u'with_laundry_in_building', u'with_fitness_center', u'with_laundry_in_unit']\n"
     ]
    }
   ],
   "source": [
    "# Looking at the most common features in an subset\n",
    "size_subset = 100\n",
    "n_features = 10\n",
    "rows = np.random.choice(df.index.values, size_subset)\n",
    "sampled_features = df[\"features\"].ix[rows]\n",
    "allFeatures=[]\n",
    "for row in rows:\n",
    "    allFeatures.extend(sampled_features.loc[[row]].values[0])\n",
    "     #   allFeatures.extend(map(lambda x:x.lower(),sampled_features.loc[[row]].values[0]))\n",
    "features_to_count = (word for word in allFeatures if word[:1])\n",
    "features_count = Counter(features_to_count)\n",
    "common_features = map(lambda x:x[0],features_count.most_common(n_features))\n",
    "common_features_rows= map(lambda x:'with_'+x.lower().replace(\" \",\"_\"),common_features)\n",
    "print(common_features_rows)"
   ]
  },
  {
   "cell_type": "code",
   "execution_count": 165,
   "metadata": {
    "collapsed": false
   },
   "outputs": [
    {
     "name": "stdout",
     "output_type": "stream",
     "text": [
      "[u'apartment', u'bedroom', u'websiteredacted', u'kitchen', u'building', u'space', u'floors', u'large', u'features', u'hardwood', u'renovated', u'kagglemanagerrenthop', u'great', u'appliances', u'bathroom', u'email', u'located', u'contact', u'private', u'laundry', u'living', u'restaurants', u'spacious', u'steel', u'doorman', u'stainless', u'marble', u'closet', u'light', u'ceilings', u'location', u'subway', u'information', u'natural', u'windows', u'throughout', u'floor', u'granite', u'beautiful', u'dishwasher', u'luxury', u'bedrooms', u'estate', u'schedule', u'broker', u'views', u'elevator', u'modern', u'available', u'shopping']\n"
     ]
    }
   ],
   "source": [
    "# Looking at the most common words in description in an subset\n",
    "size_subset = 100\n",
    "n_keywords = 50\n",
    "rows = np.random.choice(df.index.values, size_subset)\n",
    "sampled_descriptions = df[\"description\"].ix[rows]\n",
    "allDescriptionsKeywords=[]\n",
    "for row in rows:\n",
    "    desc = sampled_descriptions.loc[[row]].values[0]\n",
    "\n",
    "    #Add space before upper-case\n",
    "    desc = re.sub(r'(?<=[a-z])(?=[A-Z])', ' ',desc)\n",
    "\n",
    "    #Replace char with space\n",
    "    repls = (',', ' '), ('#', ' '), ('.', ' '), ('-', ' '), ('\\'', ' '), ('!', ' ')\n",
    "    desc = reduce(lambda a, kv: a.replace(*kv), repls, desc.lower())\n",
    "\n",
    "    #Remove all non letters \n",
    "    whitelist = set(string.letters+' ,')\n",
    "    desc = ''.join(filter(whitelist.__contains__,desc))\n",
    "\n",
    "    #Remove small words\n",
    "    desc = ' '.join(word for word in desc.split() if len(word)>4)\n",
    "\n",
    "    allDescriptionsKeywords.extend(desc.split(' '))\n",
    "\n",
    "keywords_to_count = (word for word in allDescriptionsKeywords if word[:1])\n",
    "\n",
    "keywords_count = Counter(keywords_to_count)\n",
    "common_keywords = map(lambda x:x[0],keywords_count.most_common(n_keywords))\n",
    "\n",
    "print(common_keywords)"
   ]
  },
  {
   "cell_type": "code",
   "execution_count": 145,
   "metadata": {
    "collapsed": false,
    "deletable": true,
    "editable": true
   },
   "outputs": [],
   "source": [
    "# Parsing the dataframe\n",
    "X, y = prs.parse_2(df.copy()),prs.target(df)\n",
    "X_train, X_val, y_train, y_val = train_test_split(X, y, test_size=0.33)"
   ]
  },
  {
   "cell_type": "code",
   "execution_count": 87,
   "metadata": {
    "collapsed": false,
    "deletable": true,
    "editable": true
   },
   "outputs": [],
   "source": [
    "# Classifing\n",
    "clf = RandomForestClassifier(n_estimators=100,n_jobs = 2, min_samples_leaf = 5)\n",
    "clf = clf.fit(X_train, y_train)"
   ]
  },
  {
   "cell_type": "code",
   "execution_count": 88,
   "metadata": {
    "collapsed": false,
    "deletable": true,
    "editable": true
   },
   "outputs": [
    {
     "name": "stdout",
     "output_type": "stream",
     "text": [
      "0.624152546034\n"
     ]
    }
   ],
   "source": [
    "# Estimating the score\n",
    "y_val_pred = clf.predict_proba(X_val)\n",
    "val_loss = log_loss(y_val,y_val_pred)\n",
    "print(val_loss)"
   ]
  },
  {
   "cell_type": "code",
   "execution_count": 119,
   "metadata": {
    "collapsed": false,
    "deletable": true,
    "editable": true
   },
   "outputs": [],
   "source": [
    "# Predicting data.\n",
    "df_test = pd.read_json('data/test.json')\n",
    "X_test = prs.parse_2(df_test.copy())\n",
    "y_test_pred = clf.predict_proba(X_test)\n",
    "ids = df_test['listing_id'].values"
   ]
  },
  {
   "cell_type": "code",
   "execution_count": 120,
   "metadata": {
    "collapsed": false,
    "deletable": true,
    "editable": true
   },
   "outputs": [],
   "source": [
    "# Writting the submission file\n",
    "labels2idx = {label: i for i, label in enumerate(clf.classes_)}\n",
    "labels2idx\n",
    "subm = pd.DataFrame()\n",
    "subm[\"listing_id\"] = df_test[\"listing_id\"]\n",
    "for label in [\"high\", \"medium\", \"low\"]:\n",
    "    subm[label] = y_test_pred[:, labels2idx[label]]\n",
    "subm.to_csv(\"submission.csv\", index=False)"
   ]
  },
  {
   "cell_type": "code",
   "execution_count": null,
   "metadata": {
    "collapsed": true,
    "deletable": true,
    "editable": true
   },
   "outputs": [],
   "source": []
  },
  {
   "cell_type": "code",
   "execution_count": null,
   "metadata": {
    "collapsed": false,
    "deletable": true,
    "editable": true
   },
   "outputs": [],
   "source": []
  },
  {
   "cell_type": "code",
   "execution_count": null,
   "metadata": {
    "collapsed": true,
    "deletable": true,
    "editable": true
   },
   "outputs": [],
   "source": []
  }
 ],
 "metadata": {
  "kernelspec": {
   "display_name": "Python 2",
   "language": "python",
   "name": "python2"
  },
  "language_info": {
   "codemirror_mode": {
    "name": "ipython",
    "version": 2
   },
   "file_extension": ".py",
   "mimetype": "text/x-python",
   "name": "python",
   "nbconvert_exporter": "python",
   "pygments_lexer": "ipython2",
   "version": "2.7.9"
  }
 },
 "nbformat": 4,
 "nbformat_minor": 2
}
