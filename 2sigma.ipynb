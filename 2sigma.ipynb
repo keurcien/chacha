{
 "cells": [
  {
   "cell_type": "code",
   "execution_count": 28,
   "metadata": {
    "collapsed": false,
    "deletable": true,
    "editable": true
   },
   "outputs": [],
   "source": [
    "import pandas as pd\n",
    "import numpy as np\n",
    "import matplotlib.pyplot as plt\n",
    "from sklearn.linear_model import LogisticRegression\n",
    "from sklearn.ensemble import RandomForestClassifier\n",
    "\n",
    "# Read and parse json.\n",
    "test = pd.read_json('data/test.json')\n",
    "train= pd.read_json('data/train.json')"
   ]
  },
  {
   "cell_type": "code",
   "execution_count": 31,
   "metadata": {
    "collapsed": false,
    "deletable": true,
    "editable": true
   },
   "outputs": [
    {
     "data": {
      "text/html": [
       "<div>\n",
       "<table border=\"1\" class=\"dataframe\">\n",
       "  <thead>\n",
       "    <tr style=\"text-align: right;\">\n",
       "      <th></th>\n",
       "      <th>bathrooms</th>\n",
       "      <th>bedrooms</th>\n",
       "      <th>building_id</th>\n",
       "      <th>created</th>\n",
       "      <th>description</th>\n",
       "      <th>display_address</th>\n",
       "      <th>features</th>\n",
       "      <th>latitude</th>\n",
       "      <th>listing_id</th>\n",
       "      <th>longitude</th>\n",
       "      <th>manager_id</th>\n",
       "      <th>photos</th>\n",
       "      <th>price</th>\n",
       "      <th>street_address</th>\n",
       "    </tr>\n",
       "  </thead>\n",
       "  <tbody>\n",
       "    <tr>\n",
       "      <th>2646</th>\n",
       "      <td>1.0</td>\n",
       "      <td>2</td>\n",
       "      <td>0</td>\n",
       "      <td>2016-06-22 01:27:37</td>\n",
       "      <td>Beautiful Gut Renovated Two Bedroom - Brand Ne...</td>\n",
       "      <td>East 101st Street</td>\n",
       "      <td>[Pre-War]</td>\n",
       "      <td>40.7891</td>\n",
       "      <td>7196734</td>\n",
       "      <td>-73.9480</td>\n",
       "      <td>857d5ef4c8e0d6acf1ee55b85a623b90</td>\n",
       "      <td>[https://photos.renthop.com/2/7196734_e742c1d6...</td>\n",
       "      <td>2450</td>\n",
       "      <td>169 East 101st Street</td>\n",
       "    </tr>\n",
       "    <tr>\n",
       "      <th>30497</th>\n",
       "      <td>1.0</td>\n",
       "      <td>0</td>\n",
       "      <td>692af735fbc2e181f5f1cbab06a7288a</td>\n",
       "      <td>2016-06-13 02:36:07</td>\n",
       "      <td>SUPER GREAT DEAL WON'T LAST...Kitchens and bat...</td>\n",
       "      <td>E 85 St.</td>\n",
       "      <td>[Dining Room, Elevator, Laundry in Building, L...</td>\n",
       "      <td>40.7766</td>\n",
       "      <td>7154373</td>\n",
       "      <td>-73.9510</td>\n",
       "      <td>e6472c7237327dd3903b3d6f6a94515a</td>\n",
       "      <td>[https://photos.renthop.com/2/7154373_438ce251...</td>\n",
       "      <td>2100</td>\n",
       "      <td>330 E 85 St.</td>\n",
       "    </tr>\n",
       "    <tr>\n",
       "      <th>91975</th>\n",
       "      <td>1.0</td>\n",
       "      <td>2</td>\n",
       "      <td>19939c8051e710b70d6f5d77413e57cb</td>\n",
       "      <td>2016-04-08 02:13:42</td>\n",
       "      <td>Two bedroom apartment available for immediate ...</td>\n",
       "      <td>195th St</td>\n",
       "      <td>[Elevator]</td>\n",
       "      <td>40.7069</td>\n",
       "      <td>6841896</td>\n",
       "      <td>-73.7624</td>\n",
       "      <td>22114d1931ab6a56676a692081b5d789</td>\n",
       "      <td>[https://photos.renthop.com/2/6841896_03eb5c31...</td>\n",
       "      <td>1800</td>\n",
       "      <td>104-25 195th St</td>\n",
       "    </tr>\n",
       "    <tr>\n",
       "      <th>4739</th>\n",
       "      <td>1.0</td>\n",
       "      <td>1</td>\n",
       "      <td>c3ba40552e2120b0acfc3cb5730bb2aa</td>\n",
       "      <td>2016-06-03 03:11:27</td>\n",
       "      <td>Amazing West Village location, beautiful pre-w...</td>\n",
       "      <td>W 13 St.</td>\n",
       "      <td>[Dining Room, Pre-War, Laundry in Building, Di...</td>\n",
       "      <td>40.7388</td>\n",
       "      <td>7102727</td>\n",
       "      <td>-74.0018</td>\n",
       "      <td>2d94da7b0535231e6675cbf52a7e7453</td>\n",
       "      <td>[https://photos.renthop.com/2/7102727_f9c9878b...</td>\n",
       "      <td>2800</td>\n",
       "      <td>241 W 13 St.</td>\n",
       "    </tr>\n",
       "    <tr>\n",
       "      <th>36013</th>\n",
       "      <td>1.0</td>\n",
       "      <td>2</td>\n",
       "      <td>f11bff016a02f774e99f82cd1d94def7</td>\n",
       "      <td>2016-06-21 04:12:40</td>\n",
       "      <td>***WELCOME TO HEART OF THE UPPER EAST SIDE***L...</td>\n",
       "      <td>E 86 St.</td>\n",
       "      <td>[Swimming Pool, Dining Room, Doorman, Elevator...</td>\n",
       "      <td>40.7780</td>\n",
       "      <td>7190153</td>\n",
       "      <td>-73.9512</td>\n",
       "      <td>67dd1ac0e7d040a5e35886697d6a9ffa</td>\n",
       "      <td>[https://photos.renthop.com/2/7190153_7f9a1696...</td>\n",
       "      <td>3300</td>\n",
       "      <td>305 E 86 St.</td>\n",
       "    </tr>\n",
       "  </tbody>\n",
       "</table>\n",
       "</div>"
      ],
      "text/plain": [
       "       bathrooms  bedrooms                       building_id  \\\n",
       "2646         1.0         2                                 0   \n",
       "30497        1.0         0  692af735fbc2e181f5f1cbab06a7288a   \n",
       "91975        1.0         2  19939c8051e710b70d6f5d77413e57cb   \n",
       "4739         1.0         1  c3ba40552e2120b0acfc3cb5730bb2aa   \n",
       "36013        1.0         2  f11bff016a02f774e99f82cd1d94def7   \n",
       "\n",
       "                   created                                        description  \\\n",
       "2646   2016-06-22 01:27:37  Beautiful Gut Renovated Two Bedroom - Brand Ne...   \n",
       "30497  2016-06-13 02:36:07  SUPER GREAT DEAL WON'T LAST...Kitchens and bat...   \n",
       "91975  2016-04-08 02:13:42  Two bedroom apartment available for immediate ...   \n",
       "4739   2016-06-03 03:11:27  Amazing West Village location, beautiful pre-w...   \n",
       "36013  2016-06-21 04:12:40  ***WELCOME TO HEART OF THE UPPER EAST SIDE***L...   \n",
       "\n",
       "         display_address                                           features  \\\n",
       "2646   East 101st Street                                          [Pre-War]   \n",
       "30497           E 85 St.  [Dining Room, Elevator, Laundry in Building, L...   \n",
       "91975           195th St                                         [Elevator]   \n",
       "4739            W 13 St.  [Dining Room, Pre-War, Laundry in Building, Di...   \n",
       "36013           E 86 St.  [Swimming Pool, Dining Room, Doorman, Elevator...   \n",
       "\n",
       "       latitude  listing_id  longitude                        manager_id  \\\n",
       "2646    40.7891     7196734   -73.9480  857d5ef4c8e0d6acf1ee55b85a623b90   \n",
       "30497   40.7766     7154373   -73.9510  e6472c7237327dd3903b3d6f6a94515a   \n",
       "91975   40.7069     6841896   -73.7624  22114d1931ab6a56676a692081b5d789   \n",
       "4739    40.7388     7102727   -74.0018  2d94da7b0535231e6675cbf52a7e7453   \n",
       "36013   40.7780     7190153   -73.9512  67dd1ac0e7d040a5e35886697d6a9ffa   \n",
       "\n",
       "                                                  photos  price  \\\n",
       "2646   [https://photos.renthop.com/2/7196734_e742c1d6...   2450   \n",
       "30497  [https://photos.renthop.com/2/7154373_438ce251...   2100   \n",
       "91975  [https://photos.renthop.com/2/6841896_03eb5c31...   1800   \n",
       "4739   [https://photos.renthop.com/2/7102727_f9c9878b...   2800   \n",
       "36013  [https://photos.renthop.com/2/7190153_7f9a1696...   3300   \n",
       "\n",
       "              street_address  \n",
       "2646   169 East 101st Street  \n",
       "30497           330 E 85 St.  \n",
       "91975        104-25 195th St  \n",
       "4739            241 W 13 St.  \n",
       "36013           305 E 86 St.  "
      ]
     },
     "execution_count": 31,
     "metadata": {},
     "output_type": "execute_result"
    }
   ],
   "source": [
    "# A quick look at the test data.\n",
    "rows = np.random.choice(test.index.values, 5)\n",
    "sampled_test = test.ix[rows]\n",
    "sampled_test"
   ]
  },
  {
   "cell_type": "code",
   "execution_count": 30,
   "metadata": {
    "collapsed": false
   },
   "outputs": [
    {
     "data": {
      "text/html": [
       "<div>\n",
       "<table border=\"1\" class=\"dataframe\">\n",
       "  <thead>\n",
       "    <tr style=\"text-align: right;\">\n",
       "      <th></th>\n",
       "      <th>bathrooms</th>\n",
       "      <th>bedrooms</th>\n",
       "      <th>building_id</th>\n",
       "      <th>created</th>\n",
       "      <th>description</th>\n",
       "      <th>display_address</th>\n",
       "      <th>features</th>\n",
       "      <th>interest_level</th>\n",
       "      <th>latitude</th>\n",
       "      <th>listing_id</th>\n",
       "      <th>longitude</th>\n",
       "      <th>manager_id</th>\n",
       "      <th>photos</th>\n",
       "      <th>price</th>\n",
       "      <th>street_address</th>\n",
       "    </tr>\n",
       "  </thead>\n",
       "  <tbody>\n",
       "    <tr>\n",
       "      <th>78946</th>\n",
       "      <td>1.0</td>\n",
       "      <td>1</td>\n",
       "      <td>0</td>\n",
       "      <td>2016-05-24 02:59:45</td>\n",
       "      <td>GIGANTIC apt in best area of the Upper East Si...</td>\n",
       "      <td>1570 First Avenue</td>\n",
       "      <td>[Elevator, Laundry in Building, Dishwasher, Ha...</td>\n",
       "      <td>low</td>\n",
       "      <td>40.7739</td>\n",
       "      <td>7058566</td>\n",
       "      <td>-73.9511</td>\n",
       "      <td>bf0d9091553cd99e68fe92b23966e140</td>\n",
       "      <td>[https://photos.renthop.com/2/7058566_43f2f56c...</td>\n",
       "      <td>2175</td>\n",
       "      <td>1570 First Avenue</td>\n",
       "    </tr>\n",
       "    <tr>\n",
       "      <th>114188</th>\n",
       "      <td>1.0</td>\n",
       "      <td>0</td>\n",
       "      <td>7a578efe0a5c2efb602e990393f7c0fa</td>\n",
       "      <td>2016-04-07 02:51:57</td>\n",
       "      <td>&lt;p&gt;&lt;a  website_redacted</td>\n",
       "      <td>York Avenue</td>\n",
       "      <td>[Loft, Hardwood Floors]</td>\n",
       "      <td>high</td>\n",
       "      <td>40.7749</td>\n",
       "      <td>6837700</td>\n",
       "      <td>-73.9482</td>\n",
       "      <td>95dc9b4f3c3ee921254be49230a9c680</td>\n",
       "      <td>[https://photos.renthop.com/2/6837700_f17398a8...</td>\n",
       "      <td>1700</td>\n",
       "      <td>1597 York Avenue</td>\n",
       "    </tr>\n",
       "    <tr>\n",
       "      <th>25858</th>\n",
       "      <td>1.0</td>\n",
       "      <td>1</td>\n",
       "      <td>8b11edf637954c681fe9cc79052e6812</td>\n",
       "      <td>2016-06-07 02:56:08</td>\n",
       "      <td>In this amazing luxury doorman building on the...</td>\n",
       "      <td>West End Avenue</td>\n",
       "      <td>[Swimming Pool, Roof Deck, Dining Room, Doorma...</td>\n",
       "      <td>low</td>\n",
       "      <td>40.7928</td>\n",
       "      <td>7118567</td>\n",
       "      <td>-73.9748</td>\n",
       "      <td>aa9e353a6b43b125cbc89cb751090a9e</td>\n",
       "      <td>[https://photos.renthop.com/2/7118567_46ee8942...</td>\n",
       "      <td>4000</td>\n",
       "      <td>666 West End Avenue</td>\n",
       "    </tr>\n",
       "    <tr>\n",
       "      <th>116912</th>\n",
       "      <td>1.0</td>\n",
       "      <td>0</td>\n",
       "      <td>a3df5e1e3d4479eb07e112e569bbeb05</td>\n",
       "      <td>2016-04-14 02:50:34</td>\n",
       "      <td>Bring all of your furniture to this newly reno...</td>\n",
       "      <td>East 18th Street</td>\n",
       "      <td>[Dishwasher, Hardwood Floors]</td>\n",
       "      <td>low</td>\n",
       "      <td>40.7358</td>\n",
       "      <td>6870749</td>\n",
       "      <td>-73.9857</td>\n",
       "      <td>ad87505a08c0526bc5c16796f35443eb</td>\n",
       "      <td>[https://photos.renthop.com/2/6870749_d6238e0b...</td>\n",
       "      <td>2995</td>\n",
       "      <td>150  East 18th Street</td>\n",
       "    </tr>\n",
       "    <tr>\n",
       "      <th>18427</th>\n",
       "      <td>1.0</td>\n",
       "      <td>0</td>\n",
       "      <td>e0d4310c7a987f16b2e555089c5f3e8b</td>\n",
       "      <td>2016-06-15 02:41:09</td>\n",
       "      <td>Large 1 bedroom with open layout, street views...</td>\n",
       "      <td>West 26th Street</td>\n",
       "      <td>[Doorman, Dishwasher, Dogs Allowed, Cats Allowed]</td>\n",
       "      <td>low</td>\n",
       "      <td>40.7448</td>\n",
       "      <td>7162267</td>\n",
       "      <td>-73.9919</td>\n",
       "      <td>e658bf2f280d20aeb39c95f1b60ea782</td>\n",
       "      <td>[]</td>\n",
       "      <td>4195</td>\n",
       "      <td>100 West 26th Street</td>\n",
       "    </tr>\n",
       "  </tbody>\n",
       "</table>\n",
       "</div>"
      ],
      "text/plain": [
       "        bathrooms  bedrooms                       building_id  \\\n",
       "78946         1.0         1                                 0   \n",
       "114188        1.0         0  7a578efe0a5c2efb602e990393f7c0fa   \n",
       "25858         1.0         1  8b11edf637954c681fe9cc79052e6812   \n",
       "116912        1.0         0  a3df5e1e3d4479eb07e112e569bbeb05   \n",
       "18427         1.0         0  e0d4310c7a987f16b2e555089c5f3e8b   \n",
       "\n",
       "                    created  \\\n",
       "78946   2016-05-24 02:59:45   \n",
       "114188  2016-04-07 02:51:57   \n",
       "25858   2016-06-07 02:56:08   \n",
       "116912  2016-04-14 02:50:34   \n",
       "18427   2016-06-15 02:41:09   \n",
       "\n",
       "                                              description    display_address  \\\n",
       "78946   GIGANTIC apt in best area of the Upper East Si...  1570 First Avenue   \n",
       "114188                           <p><a  website_redacted         York Avenue   \n",
       "25858   In this amazing luxury doorman building on the...    West End Avenue   \n",
       "116912  Bring all of your furniture to this newly reno...   East 18th Street   \n",
       "18427   Large 1 bedroom with open layout, street views...   West 26th Street   \n",
       "\n",
       "                                                 features interest_level  \\\n",
       "78946   [Elevator, Laundry in Building, Dishwasher, Ha...            low   \n",
       "114188                            [Loft, Hardwood Floors]           high   \n",
       "25858   [Swimming Pool, Roof Deck, Dining Room, Doorma...            low   \n",
       "116912                      [Dishwasher, Hardwood Floors]            low   \n",
       "18427   [Doorman, Dishwasher, Dogs Allowed, Cats Allowed]            low   \n",
       "\n",
       "        latitude  listing_id  longitude                        manager_id  \\\n",
       "78946    40.7739     7058566   -73.9511  bf0d9091553cd99e68fe92b23966e140   \n",
       "114188   40.7749     6837700   -73.9482  95dc9b4f3c3ee921254be49230a9c680   \n",
       "25858    40.7928     7118567   -73.9748  aa9e353a6b43b125cbc89cb751090a9e   \n",
       "116912   40.7358     6870749   -73.9857  ad87505a08c0526bc5c16796f35443eb   \n",
       "18427    40.7448     7162267   -73.9919  e658bf2f280d20aeb39c95f1b60ea782   \n",
       "\n",
       "                                                   photos  price  \\\n",
       "78946   [https://photos.renthop.com/2/7058566_43f2f56c...   2175   \n",
       "114188  [https://photos.renthop.com/2/6837700_f17398a8...   1700   \n",
       "25858   [https://photos.renthop.com/2/7118567_46ee8942...   4000   \n",
       "116912  [https://photos.renthop.com/2/6870749_d6238e0b...   2995   \n",
       "18427                                                  []   4195   \n",
       "\n",
       "               street_address  \n",
       "78946       1570 First Avenue  \n",
       "114188       1597 York Avenue  \n",
       "25858     666 West End Avenue  \n",
       "116912  150  East 18th Street  \n",
       "18427    100 West 26th Street  "
      ]
     },
     "execution_count": 30,
     "metadata": {},
     "output_type": "execute_result"
    }
   ],
   "source": [
    "# A quick look at the test data.\n",
    "rows = np.random.choice(train.index.values, 5)\n",
    "sampled_train = train.ix[rows]\n",
    "sampled_train"
   ]
  },
  {
   "cell_type": "code",
   "execution_count": 27,
   "metadata": {
    "collapsed": false,
    "deletable": true,
    "editable": true
   },
   "outputs": [
    {
     "data": {
      "image/png": "[encoded data removed]",
      "text/plain": [
       "<matplotlib.figure.Figure at 0x159167b90>"
      ]
     },
     "metadata": {},
     "output_type": "display_data"
    }
   ],
   "source": [
    "interest_names = np.unique(train.interest_level)\n",
    "\n",
    "# Proportion of interest level.\n",
    "prop_interest = []\n",
    "for interest_name in interest_names:\n",
    "   prop_interest.append(np.float(np.sum(train.interest_level==interest_name))/np.float(np.shape(train)[0]))\n",
    "\n",
    "\n",
    "y_pos = np.arange(len(interest_names))\n",
    " \n",
    "plt.bar(y_pos, prop_interest, align='center', alpha=0.5)\n",
    "plt.xticks(y_pos, interest_names, rotation='vertical')\n",
    " \n",
    "plt.show()"
   ]
  },
  {
   "cell_type": "code",
   "execution_count": 24,
   "metadata": {
    "collapsed": false,
    "deletable": true,
    "editable": true
   },
   "outputs": [
    {
     "ename": "NameError",
     "evalue": "name 'HR' is not defined",
     "output_type": "error",
     "traceback": [
      "\u001b[0;31m---------------------------------------------------------------------------\u001b[0m",
      "\u001b[0;31mNameError\u001b[0m                                 Traceback (most recent call last)",
      "\u001b[0;32m<ipython-input-24-db8c58b650de>\u001b[0m in \u001b[0;36m<module>\u001b[0;34m()\u001b[0m\n\u001b[1;32m      1\u001b[0m \u001b[0;31m# Parsing benchmark model\u001b[0m\u001b[0;34m\u001b[0m\u001b[0;34m\u001b[0m\u001b[0m\n\u001b[0;32m----> 2\u001b[0;31m \u001b[0mX\u001b[0m\u001b[0;34m,\u001b[0m \u001b[0my\u001b[0m \u001b[0;34m=\u001b[0m \u001b[0mpa\u001b[0m\u001b[0;34m.\u001b[0m\u001b[0mparse_0\u001b[0m\u001b[0;34m(\u001b[0m\u001b[0mHR\u001b[0m\u001b[0;34m.\u001b[0m\u001b[0mcopy\u001b[0m\u001b[0;34m(\u001b[0m\u001b[0;34m)\u001b[0m\u001b[0;34m)\u001b[0m\u001b[0;34m\u001b[0m\u001b[0m\n\u001b[0m\u001b[1;32m      3\u001b[0m \u001b[0;31m# Testing benchmark model\u001b[0m\u001b[0;34m\u001b[0m\u001b[0;34m\u001b[0m\u001b[0m\n\u001b[1;32m      4\u001b[0m \u001b[0mlr\u001b[0m \u001b[0;34m=\u001b[0m \u001b[0mLogisticRegression\u001b[0m\u001b[0;34m(\u001b[0m\u001b[0;34m)\u001b[0m\u001b[0;34m\u001b[0m\u001b[0m\n\u001b[1;32m      5\u001b[0m \u001b[0mcompute_score\u001b[0m\u001b[0;34m(\u001b[0m\u001b[0mlr\u001b[0m\u001b[0;34m,\u001b[0m \u001b[0mX\u001b[0m\u001b[0;34m,\u001b[0m \u001b[0my\u001b[0m\u001b[0;34m)\u001b[0m\u001b[0;34m\u001b[0m\u001b[0m\n",
      "\u001b[0;31mNameError\u001b[0m: name 'HR' is not defined"
     ]
    }
   ],
   "source": [
    "# Parsing benchmark model\n",
    "X, y = pa.parse_0(HR.copy())\n",
    "# Testing benchmark model\n",
    "lr = LogisticRegression() \n",
    "compute_score(lr, X, y)"
   ]
  },
  {
   "cell_type": "code",
   "execution_count": 11,
   "metadata": {
    "collapsed": false,
    "deletable": true,
    "editable": true
   },
   "outputs": [
    {
     "data": {
      "text/plain": [
       "0.76884329434555121"
      ]
     },
     "execution_count": 11,
     "metadata": {},
     "output_type": "execute_result"
    }
   ],
   "source": [
    "# Parsing first model\n",
    "X, y = pa.parse_2(HR.copy())\n",
    "# Testing first model\n",
    "lr = LogisticRegression() \n",
    "compute_score(lr, X, y)"
   ]
  },
  {
   "cell_type": "code",
   "execution_count": 16,
   "metadata": {
    "collapsed": false,
    "deletable": true,
    "editable": true
   },
   "outputs": [
    {
     "data": {
      "image/png": "[encoded data removed]",
      "text/plain": [
       "<matplotlib.figure.Figure at 0x10b8b3fd0>"
      ]
     },
     "metadata": {},
     "output_type": "display_data"
    }
   ],
   "source": [
    "# Affichage du poid du second model\n",
    "lr.fit(X, y)\n",
    "\n",
    "objects = list(X)\n",
    "y_pos = np.arange(len(objects))\n",
    " \n",
    "plt.bar(y_pos, lr.coef_[0], align='center', alpha=0.5)\n",
    "plt.xticks(y_pos, objects, rotation='vertical')\n",
    " \n",
    "plt.show()"
   ]
  },
  {
   "cell_type": "code",
   "execution_count": 17,
   "metadata": {
    "collapsed": false,
    "deletable": true,
    "editable": true
   },
   "outputs": [
    {
     "data": {
      "text/plain": [
       "0.98899962197773572"
      ]
     },
     "execution_count": 17,
     "metadata": {},
     "output_type": "execute_result"
    }
   ],
   "source": [
    "# Parsing first model\n",
    "X, y = pa.parse_2(HR.copy())\n",
    "# Testing first model\n",
    "rf = RandomForestClassifier()\n",
    "compute_score(rf, X, y)"
   ]
  },
  {
   "cell_type": "code",
   "execution_count": null,
   "metadata": {
    "collapsed": true,
    "deletable": true,
    "editable": true
   },
   "outputs": [],
   "source": []
  }
 ],
 "metadata": {
  "kernelspec": {
   "display_name": "Python 2",
   "language": "python",
   "name": "python2"
  },
  "language_info": {
   "codemirror_mode": {
    "name": "ipython",
    "version": 2
   },
   "file_extension": ".py",
   "mimetype": "text/x-python",
   "name": "python",
   "nbconvert_exporter": "python",
   "pygments_lexer": "ipython2",
   "version": "2.7.9"
  }
 },
 "nbformat": 4,
 "nbformat_minor": 2
}
