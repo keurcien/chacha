{
 "cells": [
  {
   "cell_type": "code",
   "execution_count": 129,
   "metadata": {
    "collapsed": false,
    "deletable": true,
    "editable": true
   },
   "outputs": [],
   "source": [
    "%reload_ext autoreload\n",
    "\n",
    "import pandas as pd\n",
    "import numpy as np\n",
    "import matplotlib.pyplot as plt\n",
    "from sklearn.ensemble import RandomForestClassifier\n",
    "from sklearn.model_selection import train_test_split\n",
    "\n",
    "# Import user defined functions.\n",
    "import parse as prs\n",
    "import score as sco\n",
    "\n",
    "\n",
    "# Read and parse json.\n",
    "subm = pd.read_json('data/test.json')\n",
    "train= pd.read_json('data/train.json')\n",
    "\n",
    "# Defining names of the target\n",
    "target_names = ['high','medium','low']"
   ]
  },
  {
   "cell_type": "code",
   "execution_count": 130,
   "metadata": {
    "collapsed": false,
    "deletable": true,
    "editable": true
   },
   "outputs": [
    {
     "data": {
      "text/html": [
       "<div>\n",
       "<table border=\"1\" class=\"dataframe\">\n",
       "  <thead>\n",
       "    <tr style=\"text-align: right;\">\n",
       "      <th></th>\n",
       "      <th>bathrooms</th>\n",
       "      <th>bedrooms</th>\n",
       "      <th>building_id</th>\n",
       "      <th>created</th>\n",
       "      <th>description</th>\n",
       "      <th>display_address</th>\n",
       "      <th>features</th>\n",
       "      <th>latitude</th>\n",
       "      <th>listing_id</th>\n",
       "      <th>longitude</th>\n",
       "      <th>manager_id</th>\n",
       "      <th>photos</th>\n",
       "      <th>price</th>\n",
       "      <th>street_address</th>\n",
       "    </tr>\n",
       "  </thead>\n",
       "  <tbody>\n",
       "    <tr>\n",
       "      <th>36707</th>\n",
       "      <td>1.0</td>\n",
       "      <td>2</td>\n",
       "      <td>4ab8052cc4fa455260ddec2f3d1936a1</td>\n",
       "      <td>2016-06-03 05:50:34</td>\n",
       "      <td>2 Bedroom on Orchard st and Houston, right nex...</td>\n",
       "      <td>Orchard St</td>\n",
       "      <td>[Dishwasher, No Fee]</td>\n",
       "      <td>40.7223</td>\n",
       "      <td>7105145</td>\n",
       "      <td>-73.9883</td>\n",
       "      <td>c70dac1e7841801c3f8257de18f21561</td>\n",
       "      <td>[https://photos.renthop.com/2/7105145_e935ba2b...</td>\n",
       "      <td>3450</td>\n",
       "      <td>191 Orchard St</td>\n",
       "    </tr>\n",
       "    <tr>\n",
       "      <th>49420</th>\n",
       "      <td>1.0</td>\n",
       "      <td>2</td>\n",
       "      <td>73127259259a12c0d8a2ac21db44fd0a</td>\n",
       "      <td>2016-05-07 03:37:17</td>\n",
       "      <td>Totally Renovated Two Bedroom Co-Op In...</td>\n",
       "      <td>Dartmouth</td>\n",
       "      <td>[Elevator, Cats Allowed]</td>\n",
       "      <td>40.7212</td>\n",
       "      <td>6979450</td>\n",
       "      <td>-73.8562</td>\n",
       "      <td>a6c931997048f055beeefb1a98f480b2</td>\n",
       "      <td>[https://photos.renthop.com/2/6979450_eca0a7c2...</td>\n",
       "      <td>2350</td>\n",
       "      <td>67-30 Dartmouth</td>\n",
       "    </tr>\n",
       "    <tr>\n",
       "      <th>93983</th>\n",
       "      <td>1.0</td>\n",
       "      <td>0</td>\n",
       "      <td>b6e23dcf448fcaef1ded4a4fd869b82d</td>\n",
       "      <td>2016-04-22 03:17:43</td>\n",
       "      <td>Building is located just steps from transporta...</td>\n",
       "      <td>W 77 Street</td>\n",
       "      <td>[Doorman, Elevator, Hardwood Floors]</td>\n",
       "      <td>40.7803</td>\n",
       "      <td>6911213</td>\n",
       "      <td>-73.9761</td>\n",
       "      <td>41735645e0f8f13993c42894023f8e58</td>\n",
       "      <td>[https://photos.renthop.com/2/6911213_0cb5f97e...</td>\n",
       "      <td>2680</td>\n",
       "      <td>50 W 77 Street</td>\n",
       "    </tr>\n",
       "    <tr>\n",
       "      <th>24103</th>\n",
       "      <td>1.0</td>\n",
       "      <td>0</td>\n",
       "      <td>6e01d34a60782126c24526cf72878117</td>\n",
       "      <td>2016-06-02 06:39:33</td>\n",
       "      <td>Come experience the completely transformed Lon...</td>\n",
       "      <td>Center Boulevard</td>\n",
       "      <td>[Terrace, Hardwood Floors]</td>\n",
       "      <td>40.7481</td>\n",
       "      <td>7099396</td>\n",
       "      <td>-73.9564</td>\n",
       "      <td>1fa37642bd8ffbffd5dfffb8aeb91215</td>\n",
       "      <td>[https://photos.renthop.com/2/7099396_b0a6515e...</td>\n",
       "      <td>2290</td>\n",
       "      <td>4545 Center Boulevard</td>\n",
       "    </tr>\n",
       "    <tr>\n",
       "      <th>78307</th>\n",
       "      <td>1.0</td>\n",
       "      <td>3</td>\n",
       "      <td>fa21c83e114de7fd5cedff34e93f4f1a</td>\n",
       "      <td>2016-05-05 06:08:28</td>\n",
       "      <td>HOT CHESLEA, OFF HIGH LINE PARK!! FLEX 3-BEDRO...</td>\n",
       "      <td>West 20th Street</td>\n",
       "      <td>[Roof Deck, Doorman, Elevator, Fitness Center,...</td>\n",
       "      <td>40.7456</td>\n",
       "      <td>6970281</td>\n",
       "      <td>-74.0053</td>\n",
       "      <td>38d72c692c25ba828c02963a9b17fc72</td>\n",
       "      <td>[https://photos.renthop.com/2/6970281_fefb0b43...</td>\n",
       "      <td>4995</td>\n",
       "      <td>460 West 20th Street</td>\n",
       "    </tr>\n",
       "  </tbody>\n",
       "</table>\n",
       "</div>"
      ],
      "text/plain": [
       "       bathrooms  bedrooms                       building_id  \\\n",
       "36707        1.0         2  4ab8052cc4fa455260ddec2f3d1936a1   \n",
       "49420        1.0         2  73127259259a12c0d8a2ac21db44fd0a   \n",
       "93983        1.0         0  b6e23dcf448fcaef1ded4a4fd869b82d   \n",
       "24103        1.0         0  6e01d34a60782126c24526cf72878117   \n",
       "78307        1.0         3  fa21c83e114de7fd5cedff34e93f4f1a   \n",
       "\n",
       "                   created                                        description  \\\n",
       "36707  2016-06-03 05:50:34  2 Bedroom on Orchard st and Houston, right nex...   \n",
       "49420  2016-05-07 03:37:17          Totally Renovated Two Bedroom Co-Op In...   \n",
       "93983  2016-04-22 03:17:43  Building is located just steps from transporta...   \n",
       "24103  2016-06-02 06:39:33  Come experience the completely transformed Lon...   \n",
       "78307  2016-05-05 06:08:28  HOT CHESLEA, OFF HIGH LINE PARK!! FLEX 3-BEDRO...   \n",
       "\n",
       "        display_address                                           features  \\\n",
       "36707        Orchard St                               [Dishwasher, No Fee]   \n",
       "49420         Dartmouth                           [Elevator, Cats Allowed]   \n",
       "93983       W 77 Street               [Doorman, Elevator, Hardwood Floors]   \n",
       "24103  Center Boulevard                         [Terrace, Hardwood Floors]   \n",
       "78307  West 20th Street  [Roof Deck, Doorman, Elevator, Fitness Center,...   \n",
       "\n",
       "       latitude  listing_id  longitude                        manager_id  \\\n",
       "36707   40.7223     7105145   -73.9883  c70dac1e7841801c3f8257de18f21561   \n",
       "49420   40.7212     6979450   -73.8562  a6c931997048f055beeefb1a98f480b2   \n",
       "93983   40.7803     6911213   -73.9761  41735645e0f8f13993c42894023f8e58   \n",
       "24103   40.7481     7099396   -73.9564  1fa37642bd8ffbffd5dfffb8aeb91215   \n",
       "78307   40.7456     6970281   -74.0053  38d72c692c25ba828c02963a9b17fc72   \n",
       "\n",
       "                                                  photos  price  \\\n",
       "36707  [https://photos.renthop.com/2/7105145_e935ba2b...   3450   \n",
       "49420  [https://photos.renthop.com/2/6979450_eca0a7c2...   2350   \n",
       "93983  [https://photos.renthop.com/2/6911213_0cb5f97e...   2680   \n",
       "24103  [https://photos.renthop.com/2/7099396_b0a6515e...   2290   \n",
       "78307  [https://photos.renthop.com/2/6970281_fefb0b43...   4995   \n",
       "\n",
       "              street_address  \n",
       "36707         191 Orchard St  \n",
       "49420        67-30 Dartmouth  \n",
       "93983         50 W 77 Street  \n",
       "24103  4545 Center Boulevard  \n",
       "78307   460 West 20th Street  "
      ]
     },
     "execution_count": 130,
     "metadata": {},
     "output_type": "execute_result"
    }
   ],
   "source": [
    "# A quick look at the test data.\n",
    "rows = np.random.choice(test.index.values, 5)\n",
    "sampled_test = test.ix[rows]\n",
    "sampled_test"
   ]
  },
  {
   "cell_type": "code",
   "execution_count": 131,
   "metadata": {
    "collapsed": false,
    "deletable": true,
    "editable": true
   },
   "outputs": [
    {
     "data": {
      "image/png": "[encoded data removed]",
      "text/plain": [
       "<matplotlib.figure.Figure at 0x10a5b7290>"
      ]
     },
     "metadata": {},
     "output_type": "display_data"
    }
   ],
   "source": [
    "# Proportion of interest level.\n",
    "prop_interest = []\n",
    "for interest_name in target_names:\n",
    "   prop_interest.append(np.float(np.sum(train.interest_level==interest_name))/np.float(np.shape(train)[0]))\n",
    "\n",
    "# Plotting as graph bar.\n",
    "y_pos = np.arange(len(target_names))\n",
    "plt.bar(y_pos, prop_interest, align='center', alpha=0.5)\n",
    "plt.xticks(y_pos, target_names, rotation='vertical') \n",
    "plt.show()"
   ]
  },
  {
   "cell_type": "code",
   "execution_count": 132,
   "metadata": {
    "collapsed": false,
    "deletable": true,
    "editable": true
   },
   "outputs": [],
   "source": [
    "X, y = prs.parse_0(train.copy()),prs.target(train)\n",
    "X_train, X_test, y_train, y_test = train_test_split(X, y, test_size=0.33)"
   ]
  },
  {
   "cell_type": "code",
   "execution_count": 133,
   "metadata": {
    "collapsed": false,
    "deletable": true,
    "editable": true
   },
   "outputs": [],
   "source": [
    "clf = RandomForestClassifier(n_estimators=20)\n",
    "clf = clf.fit(X_train, y_train)"
   ]
  },
  {
   "cell_type": "code",
   "execution_count": 134,
   "metadata": {
    "collapsed": false,
    "deletable": true,
    "editable": true
   },
   "outputs": [
    {
     "name": "stdout",
     "output_type": "stream",
     "text": [
      "22.7098763685\n"
     ]
    }
   ],
   "source": [
    "y_pred = clf.predict(X_test)\n",
    "score = sco.compute_score(y_test,y_pred)\n",
    "print(score)"
   ]
  },
  {
   "cell_type": "code",
   "execution_count": 162,
   "metadata": {
    "collapsed": false
   },
   "outputs": [
    {
     "ename": "ValueError",
     "evalue": "all the input arrays must have same number of dimensions",
     "output_type": "error",
     "traceback": [
      "\u001b[0;31m---------------------------------------------------------------------------\u001b[0m",
      "\u001b[0;31mValueError\u001b[0m                                Traceback (most recent call last)",
      "\u001b[0;32m<ipython-input-162-14f05f70bb37>\u001b[0m in \u001b[0;36m<module>\u001b[0;34m()\u001b[0m\n\u001b[1;32m      3\u001b[0m \u001b[0my_subm\u001b[0m \u001b[0;34m=\u001b[0m \u001b[0mclf\u001b[0m\u001b[0;34m.\u001b[0m\u001b[0mpredict\u001b[0m\u001b[0;34m(\u001b[0m\u001b[0mX_subm\u001b[0m\u001b[0;34m)\u001b[0m\u001b[0;34m\u001b[0m\u001b[0m\n\u001b[1;32m      4\u001b[0m \u001b[0mids\u001b[0m \u001b[0;34m=\u001b[0m \u001b[0msubm\u001b[0m\u001b[0;34m[\u001b[0m\u001b[0;34m'listing_id'\u001b[0m\u001b[0;34m]\u001b[0m\u001b[0;34m.\u001b[0m\u001b[0mvalues\u001b[0m\u001b[0;34m\u001b[0m\u001b[0m\n\u001b[0;32m----> 5\u001b[0;31m \u001b[0mnp\u001b[0m\u001b[0;34m.\u001b[0m\u001b[0mconcatenate\u001b[0m\u001b[0;34m(\u001b[0m\u001b[0;34m[\u001b[0m\u001b[0mids\u001b[0m\u001b[0;34m.\u001b[0m\u001b[0mT\u001b[0m \u001b[0;34m,\u001b[0m\u001b[0my_subm\u001b[0m\u001b[0;34m]\u001b[0m\u001b[0;34m)\u001b[0m\u001b[0;34m\u001b[0m\u001b[0m\n\u001b[0m\u001b[1;32m      6\u001b[0m \u001b[0;31m# Writting the submission file\u001b[0m\u001b[0;34m\u001b[0m\u001b[0;34m\u001b[0m\u001b[0m\n\u001b[1;32m      7\u001b[0m \u001b[0;31m#pd.DataFrame.from_dict(y_subm,orient=['high','medium','low'])\u001b[0m\u001b[0;34m\u001b[0m\u001b[0;34m\u001b[0m\u001b[0m\n",
      "\u001b[0;31mValueError\u001b[0m: all the input arrays must have same number of dimensions"
     ]
    }
   ],
   "source": [
    "# Predicting subm data.\n",
    "X_subm = prs.parse_0(subm.copy())\n",
    "y_subm = clf.predict(X_subm)\n",
    "ids = subm['listing_id'].values\n",
    "#To-do: contatener ids avec y_subm\n",
    "\n",
    "# Writting the submission file\n"
   ]
  },
  {
   "cell_type": "code",
   "execution_count": 165,
   "metadata": {
    "collapsed": false
   },
   "outputs": [
    {
     "data": {
      "text/plain": [
       "array([7142618, 7210040, 7103890, ..., 6882352, 6884758, 6924212])"
      ]
     },
     "execution_count": 165,
     "metadata": {},
     "output_type": "execute_result"
    }
   ],
   "source": [
    "ids.transpose()"
   ]
  },
  {
   "cell_type": "code",
   "execution_count": null,
   "metadata": {
    "collapsed": false
   },
   "outputs": [],
   "source": []
  },
  {
   "cell_type": "code",
   "execution_count": null,
   "metadata": {
    "collapsed": false
   },
   "outputs": [],
   "source": []
  },
  {
   "cell_type": "code",
   "execution_count": null,
   "metadata": {
    "collapsed": true
   },
   "outputs": [],
   "source": []
  }
 ],
 "metadata": {
  "kernelspec": {
   "display_name": "Python 2",
   "language": "python",
   "name": "python2"
  },
  "language_info": {
   "codemirror_mode": {
    "name": "ipython",
    "version": 2
   },
   "file_extension": ".py",
   "mimetype": "text/x-python",
   "name": "python",
   "nbconvert_exporter": "python",
   "pygments_lexer": "ipython2",
   "version": "2.7.9"
  }
 },
 "nbformat": 4,
 "nbformat_minor": 2
}
