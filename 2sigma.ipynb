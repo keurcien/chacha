{
 "cells": [
  {
   "cell_type": "code",
   "execution_count": 1,
   "metadata": {
    "collapsed": false,
    "deletable": true,
    "editable": true
   },
   "outputs": [],
   "source": [
    "%load_ext autoreload\n",
    "%autoreload 2\n",
    "\n",
    "import pandas as pd\n",
    "import numpy as np\n",
    "import matplotlib.pyplot as plt\n",
    "from sklearn.ensemble import RandomForestClassifier\n",
    "from sklearn.model_selection import train_test_split\n",
    "from sklearn.metrics import log_loss\n",
    "\n",
    "# Import user defined functions.\n",
    "import parse as prs\n",
    "\n",
    "# Read and parse json.\n",
    "df = pd.read_json('data/train.json')\n",
    "\n",
    "# Defining names of the target\n",
    "target_names = ['high','medium','low']"
   ]
  },
  {
   "cell_type": "code",
   "execution_count": 2,
   "metadata": {
    "collapsed": false,
    "deletable": true,
    "editable": true
   },
   "outputs": [
    {
     "data": {
      "text/html": [
       "<div>\n",
       "<table border=\"1\" class=\"dataframe\">\n",
       "  <thead>\n",
       "    <tr style=\"text-align: right;\">\n",
       "      <th></th>\n",
       "      <th>bathrooms</th>\n",
       "      <th>bedrooms</th>\n",
       "      <th>building_id</th>\n",
       "      <th>created</th>\n",
       "      <th>description</th>\n",
       "      <th>display_address</th>\n",
       "      <th>features</th>\n",
       "      <th>interest_level</th>\n",
       "      <th>latitude</th>\n",
       "      <th>listing_id</th>\n",
       "      <th>longitude</th>\n",
       "      <th>manager_id</th>\n",
       "      <th>photos</th>\n",
       "      <th>price</th>\n",
       "      <th>street_address</th>\n",
       "    </tr>\n",
       "  </thead>\n",
       "  <tbody>\n",
       "    <tr>\n",
       "      <th>79828</th>\n",
       "      <td>1.0</td>\n",
       "      <td>1</td>\n",
       "      <td>a175cb5fe31395bede6ab3332161ccf5</td>\n",
       "      <td>2016-05-04 02:43:22</td>\n",
       "      <td>PREWAR BUILDING LOCATED IN THE MOST DESIRABLE ...</td>\n",
       "      <td>W 73 St.</td>\n",
       "      <td>[Elevator, Laundry in Building, Dishwasher, Ha...</td>\n",
       "      <td>low</td>\n",
       "      <td>40.7778</td>\n",
       "      <td>6962732</td>\n",
       "      <td>-73.9781</td>\n",
       "      <td>d0bb1f50091eb583b77641d698cb9ba9</td>\n",
       "      <td>[https://photos.renthop.com/2/6962732_b3d9e800...</td>\n",
       "      <td>3200</td>\n",
       "      <td>48 W 73 St.</td>\n",
       "    </tr>\n",
       "    <tr>\n",
       "      <th>99647</th>\n",
       "      <td>3.0</td>\n",
       "      <td>4</td>\n",
       "      <td>0</td>\n",
       "      <td>2016-04-26 05:55:58</td>\n",
       "      <td>THIS SUPER LUXURIOUS BUILDING OFFER THE ULTIMA...</td>\n",
       "      <td>North End Avenue</td>\n",
       "      <td>[Roof Deck, Dining Room, Doorman, Elevator, La...</td>\n",
       "      <td>low</td>\n",
       "      <td>40.7160</td>\n",
       "      <td>6927665</td>\n",
       "      <td>-74.0148</td>\n",
       "      <td>cbcd513212d592e6c717d27be14f46ac</td>\n",
       "      <td>[https://photos.renthop.com/2/6927665_aa6f1ffd...</td>\n",
       "      <td>13700</td>\n",
       "      <td>200 North End Avenue</td>\n",
       "    </tr>\n",
       "    <tr>\n",
       "      <th>39914</th>\n",
       "      <td>1.0</td>\n",
       "      <td>0</td>\n",
       "      <td>89d3f31d96385eed1a427f57a780e779</td>\n",
       "      <td>2016-06-21 02:11:35</td>\n",
       "      <td>Located in the highly coveted Lincoln Center a...</td>\n",
       "      <td>W 68th St,</td>\n",
       "      <td>[Elevator, Stainless Steel Appliances, High Ce...</td>\n",
       "      <td>low</td>\n",
       "      <td>40.7756</td>\n",
       "      <td>7187714</td>\n",
       "      <td>-73.9829</td>\n",
       "      <td>bd0463ff134d5c2124386fd86f520ac0</td>\n",
       "      <td>[https://photos.renthop.com/2/7187714_0326e679...</td>\n",
       "      <td>2225</td>\n",
       "      <td>148 W 68th St,</td>\n",
       "    </tr>\n",
       "    <tr>\n",
       "      <th>108222</th>\n",
       "      <td>2.0</td>\n",
       "      <td>2</td>\n",
       "      <td>9e67c52439dd77fd22822821ed6f062d</td>\n",
       "      <td>2016-04-08 02:55:24</td>\n",
       "      <td>Lease break through 9/1/2016, can extend if de...</td>\n",
       "      <td>Luquer Street</td>\n",
       "      <td>[Dining Room, Balcony, Doorman, Elevator, Gard...</td>\n",
       "      <td>low</td>\n",
       "      <td>40.6776</td>\n",
       "      <td>6842672</td>\n",
       "      <td>-74.0014</td>\n",
       "      <td>4a3c4e817bb3aba23a5ac50444df82ed</td>\n",
       "      <td>[https://photos.renthop.com/2/6842672_5c56ebd6...</td>\n",
       "      <td>4500</td>\n",
       "      <td>100 Luquer Street</td>\n",
       "    </tr>\n",
       "    <tr>\n",
       "      <th>86462</th>\n",
       "      <td>1.0</td>\n",
       "      <td>1</td>\n",
       "      <td>9377f4ea7d5cfba9098234521f2d72cb</td>\n",
       "      <td>2016-04-06 04:26:29</td>\n",
       "      <td></td>\n",
       "      <td>Mulberry Street</td>\n",
       "      <td>[Cats Allowed, Dogs Allowed]</td>\n",
       "      <td>low</td>\n",
       "      <td>40.7199</td>\n",
       "      <td>6830599</td>\n",
       "      <td>-73.9968</td>\n",
       "      <td>8f5a9c893f6d602f4953fcc0b8e6e9b4</td>\n",
       "      <td>[https://photos.renthop.com/2/6830599_2db19c10...</td>\n",
       "      <td>2895</td>\n",
       "      <td>172 Mulberry Street</td>\n",
       "    </tr>\n",
       "  </tbody>\n",
       "</table>\n",
       "</div>"
      ],
      "text/plain": [
       "        bathrooms  bedrooms                       building_id  \\\n",
       "79828         1.0         1  a175cb5fe31395bede6ab3332161ccf5   \n",
       "99647         3.0         4                                 0   \n",
       "39914         1.0         0  89d3f31d96385eed1a427f57a780e779   \n",
       "108222        2.0         2  9e67c52439dd77fd22822821ed6f062d   \n",
       "86462         1.0         1  9377f4ea7d5cfba9098234521f2d72cb   \n",
       "\n",
       "                    created  \\\n",
       "79828   2016-05-04 02:43:22   \n",
       "99647   2016-04-26 05:55:58   \n",
       "39914   2016-06-21 02:11:35   \n",
       "108222  2016-04-08 02:55:24   \n",
       "86462   2016-04-06 04:26:29   \n",
       "\n",
       "                                              description   display_address  \\\n",
       "79828   PREWAR BUILDING LOCATED IN THE MOST DESIRABLE ...          W 73 St.   \n",
       "99647   THIS SUPER LUXURIOUS BUILDING OFFER THE ULTIMA...  North End Avenue   \n",
       "39914   Located in the highly coveted Lincoln Center a...        W 68th St,   \n",
       "108222  Lease break through 9/1/2016, can extend if de...     Luquer Street   \n",
       "86462                                                       Mulberry Street   \n",
       "\n",
       "                                                 features interest_level  \\\n",
       "79828   [Elevator, Laundry in Building, Dishwasher, Ha...            low   \n",
       "99647   [Roof Deck, Dining Room, Doorman, Elevator, La...            low   \n",
       "39914   [Elevator, Stainless Steel Appliances, High Ce...            low   \n",
       "108222  [Dining Room, Balcony, Doorman, Elevator, Gard...            low   \n",
       "86462                        [Cats Allowed, Dogs Allowed]            low   \n",
       "\n",
       "        latitude  listing_id  longitude                        manager_id  \\\n",
       "79828    40.7778     6962732   -73.9781  d0bb1f50091eb583b77641d698cb9ba9   \n",
       "99647    40.7160     6927665   -74.0148  cbcd513212d592e6c717d27be14f46ac   \n",
       "39914    40.7756     7187714   -73.9829  bd0463ff134d5c2124386fd86f520ac0   \n",
       "108222   40.6776     6842672   -74.0014  4a3c4e817bb3aba23a5ac50444df82ed   \n",
       "86462    40.7199     6830599   -73.9968  8f5a9c893f6d602f4953fcc0b8e6e9b4   \n",
       "\n",
       "                                                   photos  price  \\\n",
       "79828   [https://photos.renthop.com/2/6962732_b3d9e800...   3200   \n",
       "99647   [https://photos.renthop.com/2/6927665_aa6f1ffd...  13700   \n",
       "39914   [https://photos.renthop.com/2/7187714_0326e679...   2225   \n",
       "108222  [https://photos.renthop.com/2/6842672_5c56ebd6...   4500   \n",
       "86462   [https://photos.renthop.com/2/6830599_2db19c10...   2895   \n",
       "\n",
       "              street_address  \n",
       "79828            48 W 73 St.  \n",
       "99647   200 North End Avenue  \n",
       "39914         148 W 68th St,  \n",
       "108222     100 Luquer Street  \n",
       "86462    172 Mulberry Street  "
      ]
     },
     "execution_count": 2,
     "metadata": {},
     "output_type": "execute_result"
    }
   ],
   "source": [
    "# A quick look at the dataframe.\n",
    "rows = np.random.choice(df.index.values, 5)\n",
    "sampled_df = df.ix[rows]\n",
    "sampled_df"
   ]
  },
  {
   "cell_type": "code",
   "execution_count": 3,
   "metadata": {
    "collapsed": false,
    "deletable": true,
    "editable": true
   },
   "outputs": [
    {
     "data": {
      "image/png": "[encoded data removed]",
      "text/plain": [
       "<matplotlib.figure.Figure at 0x105053650>"
      ]
     },
     "metadata": {},
     "output_type": "display_data"
    }
   ],
   "source": [
    "# Proportion of interest level.\n",
    "prop_interest = []\n",
    "for interest_name in target_names:\n",
    "   prop_interest.append(np.float(np.sum(df.interest_level==interest_name))/np.float(np.shape(df)[0]))\n",
    "\n",
    "# Plotting as graph bar.\n",
    "y_pos = np.arange(len(target_names))\n",
    "plt.bar(y_pos, prop_interest, align='center', alpha=0.5)\n",
    "plt.xticks(y_pos, target_names, rotation='vertical') \n",
    "plt.show()"
   ]
  },
  {
   "cell_type": "code",
   "execution_count": 4,
   "metadata": {
    "collapsed": false,
    "deletable": true,
    "editable": true
   },
   "outputs": [],
   "source": [
    "X, y = prs.parse_1(df.copy()),prs.target(df)\n",
    "X_train, X_val, y_train, y_val = train_test_split(X, y, test_size=0.33)"
   ]
  },
  {
   "cell_type": "code",
   "execution_count": 39,
   "metadata": {
    "collapsed": false,
    "deletable": true,
    "editable": true
   },
   "outputs": [],
   "source": [
    "clf = RandomForestClassifier(n_estimators=1000)\n",
    "clf = clf.fit(X_train, y_train)"
   ]
  },
  {
   "cell_type": "code",
   "execution_count": 40,
   "metadata": {
    "collapsed": false,
    "deletable": true,
    "editable": true
   },
   "outputs": [
    {
     "name": "stdout",
     "output_type": "stream",
     "text": [
      "0.627003063457\n",
      "0.155624832734\n"
     ]
    }
   ],
   "source": [
    "y_val_pred = clf.predict_proba(X_val)\n",
    "val_loss = log_loss(y_val,y_val_pred)\n",
    "print(val_loss)\n",
    "y_train_pred = clf.predict_proba(X_train)\n",
    "train_loss = log_loss(y_train,y_train_pred)\n",
    "print(train_loss)"
   ]
  },
  {
   "cell_type": "code",
   "execution_count": 41,
   "metadata": {
    "collapsed": false,
    "deletable": true,
    "editable": true
   },
   "outputs": [],
   "source": [
    "# Predicting data.\n",
    "df_test = pd.read_json('data/test.json')\n",
    "X_test = prs.parse_1(df_test.copy())\n",
    "y_test_pred = clf.predict_proba(X_test)\n",
    "ids = df_test['listing_id'].values\n"
   ]
  },
  {
   "cell_type": "code",
   "execution_count": 43,
   "metadata": {
    "collapsed": false,
    "deletable": true,
    "editable": true
   },
   "outputs": [],
   "source": [
    "# Writting the submission file\n",
    "labels2idx = {label: i for i, label in enumerate(clf.classes_)}\n",
    "labels2idx\n",
    "subm = pd.DataFrame()\n",
    "subm[\"listing_id\"] = df_test[\"listing_id\"]\n",
    "for label in [\"high\", \"medium\", \"low\"]:\n",
    "    subm[label] = y_test_pred[:, labels2idx[label]]\n",
    "subm.to_csv(\"submission.csv\", index=False)\n",
    "\n"
   ]
  },
  {
   "cell_type": "code",
   "execution_count": null,
   "metadata": {
    "collapsed": true
   },
   "outputs": [],
   "source": []
  },
  {
   "cell_type": "code",
   "execution_count": null,
   "metadata": {
    "collapsed": false,
    "deletable": true,
    "editable": true
   },
   "outputs": [],
   "source": []
  },
  {
   "cell_type": "code",
   "execution_count": null,
   "metadata": {
    "collapsed": true,
    "deletable": true,
    "editable": true
   },
   "outputs": [],
   "source": []
  }
 ],
 "metadata": {
  "kernelspec": {
   "display_name": "Python 2",
   "language": "python",
   "name": "python2"
  },
  "language_info": {
   "codemirror_mode": {
    "name": "ipython",
    "version": 2
   },
   "file_extension": ".py",
   "mimetype": "text/x-python",
   "name": "python",
   "nbconvert_exporter": "python",
   "pygments_lexer": "ipython2",
   "version": "2.7.9"
  }
 },
 "nbformat": 4,
 "nbformat_minor": 2
}
