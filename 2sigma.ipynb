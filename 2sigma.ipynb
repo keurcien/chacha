{
 "cells": [
  {
   "cell_type": "code",
   "execution_count": 73,
   "metadata": {
    "collapsed": false,
    "deletable": true,
    "editable": true
   },
   "outputs": [
    {
     "name": "stdout",
     "output_type": "stream",
     "text": [
      "The autoreload extension is already loaded. To reload it, use:\n",
      "  %reload_ext autoreload\n"
     ]
    }
   ],
   "source": [
    "%load_ext autoreload\n",
    "%autoreload 2\n",
    "\n",
    "import pandas as pd\n",
    "import numpy as np\n",
    "import matplotlib.pyplot as plt\n",
    "from sklearn.ensemble import RandomForestClassifier\n",
    "from sklearn.model_selection import train_test_split\n",
    "from sklearn.metrics import log_loss\n",
    "from collections import Counter\n",
    "\n",
    "# Import user defined functions.\n",
    "import parse as prs\n",
    "\n",
    "# Read and parse json.\n",
    "df = pd.read_json('data/train.json')\n",
    "\n",
    "# Defining names of the target\n",
    "target_names = ['high','medium','low']"
   ]
  },
  {
   "cell_type": "code",
   "execution_count": 4,
   "metadata": {
    "collapsed": false,
    "deletable": true,
    "editable": true
   },
   "outputs": [
    {
     "data": {
      "text/html": [
       "<div>\n",
       "<table border=\"1\" class=\"dataframe\">\n",
       "  <thead>\n",
       "    <tr style=\"text-align: right;\">\n",
       "      <th></th>\n",
       "      <th>bathrooms</th>\n",
       "      <th>bedrooms</th>\n",
       "      <th>building_id</th>\n",
       "      <th>created</th>\n",
       "      <th>description</th>\n",
       "      <th>display_address</th>\n",
       "      <th>features</th>\n",
       "      <th>interest_level</th>\n",
       "      <th>latitude</th>\n",
       "      <th>listing_id</th>\n",
       "      <th>longitude</th>\n",
       "      <th>manager_id</th>\n",
       "      <th>photos</th>\n",
       "      <th>price</th>\n",
       "      <th>street_address</th>\n",
       "    </tr>\n",
       "  </thead>\n",
       "  <tbody>\n",
       "    <tr>\n",
       "      <th>21478</th>\n",
       "      <td>1.0</td>\n",
       "      <td>1</td>\n",
       "      <td>880b1f1686459ebdae4a154ae5b75f66</td>\n",
       "      <td>2016-06-24 08:27:10</td>\n",
       "      <td>Located in the heart of Lincoln Square, the bu...</td>\n",
       "      <td>W 66th St.</td>\n",
       "      <td>[Dining Room, Doorman, Elevator, Fitness Cente...</td>\n",
       "      <td>low</td>\n",
       "      <td>40.7733</td>\n",
       "      <td>7211786</td>\n",
       "      <td>-73.9814</td>\n",
       "      <td>5599e962719af3ccc2976855c2d5893c</td>\n",
       "      <td>[https://photos.renthop.com/2/7211786_b520369c...</td>\n",
       "      <td>5250</td>\n",
       "      <td>60 W 66th St.</td>\n",
       "    </tr>\n",
       "    <tr>\n",
       "      <th>86071</th>\n",
       "      <td>1.0</td>\n",
       "      <td>3</td>\n",
       "      <td>f1833846e5f958df2a97e2b0258820e0</td>\n",
       "      <td>2016-04-20 03:42:32</td>\n",
       "      <td>LAUNDRY IN UNIT&lt;br /&gt;&lt;br /&gt;Bond New York is a ...</td>\n",
       "      <td>Amsterdam Avenue</td>\n",
       "      <td>[]</td>\n",
       "      <td>low</td>\n",
       "      <td>40.8012</td>\n",
       "      <td>6899984</td>\n",
       "      <td>-73.9647</td>\n",
       "      <td>6258f603d2df9463fd6de58f75f20cbb</td>\n",
       "      <td>[https://photos.renthop.com/2/6899984_e1019b83...</td>\n",
       "      <td>3850</td>\n",
       "      <td>965 Amsterdam Avenue</td>\n",
       "    </tr>\n",
       "    <tr>\n",
       "      <th>31794</th>\n",
       "      <td>1.0</td>\n",
       "      <td>1</td>\n",
       "      <td>61069a7cb537d02dd8ca82a6ccff819c</td>\n",
       "      <td>2016-06-10 02:30:57</td>\n",
       "      <td>The story luxury rental apartment building is...</td>\n",
       "      <td>Sixth Avenue</td>\n",
       "      <td>[Doorman, Elevator, Terrace, Outdoor Space, Do...</td>\n",
       "      <td>low</td>\n",
       "      <td>40.7452</td>\n",
       "      <td>7134371</td>\n",
       "      <td>-73.9916</td>\n",
       "      <td>5c50a37609dd7e7863d1afee5da184a6</td>\n",
       "      <td>[https://photos.renthop.com/2/7134371_a3bd0399...</td>\n",
       "      <td>4520</td>\n",
       "      <td>777 Sixth Avenue</td>\n",
       "    </tr>\n",
       "  </tbody>\n",
       "</table>\n",
       "</div>"
      ],
      "text/plain": [
       "       bathrooms  bedrooms                       building_id  \\\n",
       "21478        1.0         1  880b1f1686459ebdae4a154ae5b75f66   \n",
       "86071        1.0         3  f1833846e5f958df2a97e2b0258820e0   \n",
       "31794        1.0         1  61069a7cb537d02dd8ca82a6ccff819c   \n",
       "\n",
       "                   created                                        description  \\\n",
       "21478  2016-06-24 08:27:10  Located in the heart of Lincoln Square, the bu...   \n",
       "86071  2016-04-20 03:42:32  LAUNDRY IN UNIT<br /><br />Bond New York is a ...   \n",
       "31794  2016-06-10 02:30:57   The story luxury rental apartment building is...   \n",
       "\n",
       "        display_address                                           features  \\\n",
       "21478        W 66th St.  [Dining Room, Doorman, Elevator, Fitness Cente...   \n",
       "86071  Amsterdam Avenue                                                 []   \n",
       "31794      Sixth Avenue  [Doorman, Elevator, Terrace, Outdoor Space, Do...   \n",
       "\n",
       "      interest_level  latitude  listing_id  longitude  \\\n",
       "21478            low   40.7733     7211786   -73.9814   \n",
       "86071            low   40.8012     6899984   -73.9647   \n",
       "31794            low   40.7452     7134371   -73.9916   \n",
       "\n",
       "                             manager_id  \\\n",
       "21478  5599e962719af3ccc2976855c2d5893c   \n",
       "86071  6258f603d2df9463fd6de58f75f20cbb   \n",
       "31794  5c50a37609dd7e7863d1afee5da184a6   \n",
       "\n",
       "                                                  photos  price  \\\n",
       "21478  [https://photos.renthop.com/2/7211786_b520369c...   5250   \n",
       "86071  [https://photos.renthop.com/2/6899984_e1019b83...   3850   \n",
       "31794  [https://photos.renthop.com/2/7134371_a3bd0399...   4520   \n",
       "\n",
       "             street_address  \n",
       "21478         60 W 66th St.  \n",
       "86071  965 Amsterdam Avenue  \n",
       "31794      777 Sixth Avenue  "
      ]
     },
     "execution_count": 4,
     "metadata": {},
     "output_type": "execute_result"
    }
   ],
   "source": [
    "# A quick look at the dataframe.\n",
    "rows = np.random.choice(df.index.values, 3)\n",
    "sampled_df = df.ix[rows]\n",
    "sampled_df"
   ]
  },
  {
   "cell_type": "code",
   "execution_count": 5,
   "metadata": {
    "collapsed": false,
    "deletable": true,
    "editable": true
   },
   "outputs": [
    {
     "data": {
      "image/png": "[encoded data removed]",
      "text/plain": [
       "<matplotlib.figure.Figure at 0x12f7343d0>"
      ]
     },
     "metadata": {},
     "output_type": "display_data"
    }
   ],
   "source": [
    "# Proportion of interest level.\n",
    "prop_interest = []\n",
    "for interest_name in target_names:\n",
    "   prop_interest.append(np.float(np.sum(df.interest_level==interest_name))/np.float(np.shape(df)[0]))\n",
    "\n",
    "# Plotting as graph bar.\n",
    "y_pos = np.arange(len(target_names))\n",
    "plt.bar(y_pos, prop_interest, align='center', alpha=0.5)\n",
    "plt.xticks(y_pos, target_names, rotation='vertical') \n",
    "plt.show()"
   ]
  },
  {
   "cell_type": "code",
   "execution_count": 83,
   "metadata": {
    "collapsed": false
   },
   "outputs": [
    {
     "name": "stdout",
     "output_type": "stream",
     "text": [
      "[(u'Elevator', 2649), (u'Cats Allowed', 2449), (u'Hardwood Floors', 2351)]\n"
     ]
    }
   ],
   "source": [
    "# Looking at features\n",
    "rows = np.random.choice(df.index.values, 5000)\n",
    "sampled_features = df[\"features\"].ix[rows]\n",
    "#print(sampled_features)\n",
    "#print(sampled_features.iloc[[0]].values)\n",
    "\n",
    "allFeatures=[]\n",
    "for row in rows:\n",
    "    allFeatures.extend(sampled_features.loc[[row]].values[0])\n",
    "\n",
    "from collections import Counter\n",
    "words_to_count = (word for word in allFeatures if word[:1].isupper())\n",
    "c = Counter(words_to_count)\n",
    "print c.most_common(3)\n",
    "\n",
    "#To-do, add n most common features as dummies variables"
   ]
  },
  {
   "cell_type": "code",
   "execution_count": 54,
   "metadata": {
    "collapsed": false,
    "deletable": true,
    "editable": true
   },
   "outputs": [],
   "source": [
    "X, y = prs.parse_1(df.copy()),prs.target(df)\n",
    "X_train, X_val, y_train, y_val = train_test_split(X, y, test_size=0.33)"
   ]
  },
  {
   "cell_type": "code",
   "execution_count": null,
   "metadata": {
    "collapsed": false,
    "deletable": true,
    "editable": true
   },
   "outputs": [],
   "source": [
    "clf = RandomForestClassifier(n_estimators=1000)\n",
    "clf = clf.fit(X_train, y_train)"
   ]
  },
  {
   "cell_type": "code",
   "execution_count": null,
   "metadata": {
    "collapsed": false,
    "deletable": true,
    "editable": true
   },
   "outputs": [],
   "source": [
    "y_val_pred = clf.predict_proba(X_val)\n",
    "val_loss = log_loss(y_val,y_val_pred)\n",
    "print(val_loss)\n",
    "y_train_pred = clf.predict_proba(X_train)\n",
    "train_loss = log_loss(y_train,y_train_pred)\n",
    "print(train_loss)"
   ]
  },
  {
   "cell_type": "code",
   "execution_count": null,
   "metadata": {
    "collapsed": false,
    "deletable": true,
    "editable": true
   },
   "outputs": [],
   "source": [
    "# Predicting data.\n",
    "df_test = pd.read_json('data/test.json')\n",
    "X_test = prs.parse_1(df_test.copy())\n",
    "y_test_pred = clf.predict_proba(X_test)\n",
    "ids = df_test['listing_id'].values\n"
   ]
  },
  {
   "cell_type": "code",
   "execution_count": null,
   "metadata": {
    "collapsed": false,
    "deletable": true,
    "editable": true
   },
   "outputs": [],
   "source": [
    "# Writting the submission file\n",
    "labels2idx = {label: i for i, label in enumerate(clf.classes_)}\n",
    "labels2idx\n",
    "subm = pd.DataFrame()\n",
    "subm[\"listing_id\"] = df_test[\"listing_id\"]\n",
    "for label in [\"high\", \"medium\", \"low\"]:\n",
    "    subm[label] = y_test_pred[:, labels2idx[label]]\n",
    "subm.to_csv(\"submission.csv\", index=False)"
   ]
  },
  {
   "cell_type": "code",
   "execution_count": null,
   "metadata": {
    "collapsed": true
   },
   "outputs": [],
   "source": []
  },
  {
   "cell_type": "code",
   "execution_count": null,
   "metadata": {
    "collapsed": false,
    "deletable": true,
    "editable": true
   },
   "outputs": [],
   "source": []
  },
  {
   "cell_type": "code",
   "execution_count": null,
   "metadata": {
    "collapsed": true,
    "deletable": true,
    "editable": true
   },
   "outputs": [],
   "source": []
  }
 ],
 "metadata": {
  "kernelspec": {
   "display_name": "Python 2",
   "language": "python",
   "name": "python2"
  },
  "language_info": {
   "codemirror_mode": {
    "name": "ipython",
    "version": 2
   },
   "file_extension": ".py",
   "mimetype": "text/x-python",
   "name": "python",
   "nbconvert_exporter": "python",
   "pygments_lexer": "ipython2",
   "version": "2.7.9"
  }
 },
 "nbformat": 4,
 "nbformat_minor": 2
}
